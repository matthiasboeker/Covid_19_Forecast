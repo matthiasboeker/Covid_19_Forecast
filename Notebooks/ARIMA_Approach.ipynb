{
 "cells": [
  {
   "cell_type": "code",
   "execution_count": 1,
   "metadata": {},
   "outputs": [],
   "source": [
    "import sys\n",
    "import warnings\n",
    "warnings.filterwarnings('ignore')\n",
    "sys.path.append('../')"
   ]
  },
  {
   "cell_type": "code",
   "execution_count": 2,
   "metadata": {},
   "outputs": [],
   "source": [
    "from Modules.scraping import *\n",
    "from Modules.support_functions import *\n",
    "from Modules.Growth_curve_fitting import *\n",
    "import numpy as np\n",
    "import os \n",
    "import pandas as pd\n",
    "import matplotlib.pyplot as plt"
   ]
  },
  {
   "cell_type": "code",
   "execution_count": 3,
   "metadata": {},
   "outputs": [
    {
     "name": "stdout",
     "output_type": "stream",
     "text": [
      "# START scraping\n",
      "### Requesting url nr 1\n",
      "### Requesting url nr 2\n",
      "# END scraping\n"
     ]
    }
   ],
   "source": [
    "data = cut_down(scrap_covid_data())"
   ]
  },
  {
   "cell_type": "code",
   "execution_count": 4,
   "metadata": {},
   "outputs": [],
   "source": [
    "def find_timepoint_zero(df):\n",
    "    df[\"Timepoint\"] = -1\n",
    "\n",
    "    point_zero = df.loc[df['Infected']>0, \"Date\"][0]\n",
    "    df.loc[df['Date'] == point_zero, \"Timepoint\"] = 0\n",
    "\n",
    "    previous = -1\n",
    "    for i, row in df.iterrows():\n",
    "        if i == point_zero or previous != -1:\n",
    "            previous = previous + 1\n",
    "            df.at[i,'Timepoint'] = previous\n",
    "            \n",
    "    return df"
   ]
  },
  {
   "cell_type": "code",
   "execution_count": 5,
   "metadata": {},
   "outputs": [],
   "source": [
    "# Get German data\n",
    "DE = country_filter(data, Country='Germany')\n",
    "DE = find_timepoint_zero(DE)\n",
    "DE = DE[DE.Timepoint != -1]"
   ]
  },
  {
   "cell_type": "code",
   "execution_count": 6,
   "metadata": {},
   "outputs": [
    {
     "data": {
      "text/html": [
       "<div>\n",
       "<style scoped>\n",
       "    .dataframe tbody tr th:only-of-type {\n",
       "        vertical-align: middle;\n",
       "    }\n",
       "\n",
       "    .dataframe tbody tr th {\n",
       "        vertical-align: top;\n",
       "    }\n",
       "\n",
       "    .dataframe thead th {\n",
       "        text-align: right;\n",
       "    }\n",
       "</style>\n",
       "<table border=\"1\" class=\"dataframe\">\n",
       "  <thead>\n",
       "    <tr style=\"text-align: right;\">\n",
       "      <th></th>\n",
       "      <th>Province/State</th>\n",
       "      <th>Country/Region</th>\n",
       "      <th>Lat</th>\n",
       "      <th>Long</th>\n",
       "      <th>Date</th>\n",
       "      <th>Infected</th>\n",
       "      <th>Deaths</th>\n",
       "    </tr>\n",
       "    <tr>\n",
       "      <th>Date</th>\n",
       "      <th></th>\n",
       "      <th></th>\n",
       "      <th></th>\n",
       "      <th></th>\n",
       "      <th></th>\n",
       "      <th></th>\n",
       "      <th></th>\n",
       "    </tr>\n",
       "  </thead>\n",
       "  <tbody>\n",
       "    <tr>\n",
       "      <th>2020-01-22</th>\n",
       "      <td>Zhejiang</td>\n",
       "      <td>China</td>\n",
       "      <td>29.1832</td>\n",
       "      <td>120.0934</td>\n",
       "      <td>2020-01-22</td>\n",
       "      <td>10.0</td>\n",
       "      <td>0.0</td>\n",
       "    </tr>\n",
       "    <tr>\n",
       "      <th>2020-01-22</th>\n",
       "      <td>Hong Kong</td>\n",
       "      <td>China</td>\n",
       "      <td>22.3000</td>\n",
       "      <td>114.2000</td>\n",
       "      <td>2020-01-22</td>\n",
       "      <td>0.0</td>\n",
       "      <td>0.0</td>\n",
       "    </tr>\n",
       "    <tr>\n",
       "      <th>2020-01-22</th>\n",
       "      <td>Jiangsu</td>\n",
       "      <td>China</td>\n",
       "      <td>32.9711</td>\n",
       "      <td>119.4550</td>\n",
       "      <td>2020-01-22</td>\n",
       "      <td>1.0</td>\n",
       "      <td>0.0</td>\n",
       "    </tr>\n",
       "    <tr>\n",
       "      <th>2020-01-22</th>\n",
       "      <td>Inner Mongolia</td>\n",
       "      <td>China</td>\n",
       "      <td>44.0935</td>\n",
       "      <td>113.9448</td>\n",
       "      <td>2020-01-22</td>\n",
       "      <td>0.0</td>\n",
       "      <td>0.0</td>\n",
       "    </tr>\n",
       "    <tr>\n",
       "      <th>2020-01-22</th>\n",
       "      <td>Shanghai</td>\n",
       "      <td>China</td>\n",
       "      <td>31.2020</td>\n",
       "      <td>121.4491</td>\n",
       "      <td>2020-01-22</td>\n",
       "      <td>9.0</td>\n",
       "      <td>0.0</td>\n",
       "    </tr>\n",
       "    <tr>\n",
       "      <th>2020-01-22</th>\n",
       "      <td>Liaoning</td>\n",
       "      <td>China</td>\n",
       "      <td>41.2956</td>\n",
       "      <td>122.6085</td>\n",
       "      <td>2020-01-22</td>\n",
       "      <td>2.0</td>\n",
       "      <td>0.0</td>\n",
       "    </tr>\n",
       "    <tr>\n",
       "      <th>2020-01-22</th>\n",
       "      <td>Hainan</td>\n",
       "      <td>China</td>\n",
       "      <td>19.1959</td>\n",
       "      <td>109.7453</td>\n",
       "      <td>2020-01-22</td>\n",
       "      <td>4.0</td>\n",
       "      <td>0.0</td>\n",
       "    </tr>\n",
       "    <tr>\n",
       "      <th>2020-01-22</th>\n",
       "      <td>Shandong</td>\n",
       "      <td>China</td>\n",
       "      <td>36.3427</td>\n",
       "      <td>118.1498</td>\n",
       "      <td>2020-01-22</td>\n",
       "      <td>2.0</td>\n",
       "      <td>0.0</td>\n",
       "    </tr>\n",
       "    <tr>\n",
       "      <th>2020-01-22</th>\n",
       "      <td>Fujian</td>\n",
       "      <td>China</td>\n",
       "      <td>26.0789</td>\n",
       "      <td>117.9874</td>\n",
       "      <td>2020-01-22</td>\n",
       "      <td>1.0</td>\n",
       "      <td>0.0</td>\n",
       "    </tr>\n",
       "    <tr>\n",
       "      <th>2020-01-22</th>\n",
       "      <td>Qinghai</td>\n",
       "      <td>China</td>\n",
       "      <td>35.7452</td>\n",
       "      <td>95.9956</td>\n",
       "      <td>2020-01-22</td>\n",
       "      <td>0.0</td>\n",
       "      <td>0.0</td>\n",
       "    </tr>\n",
       "    <tr>\n",
       "      <th>2020-01-22</th>\n",
       "      <td>Tianjin</td>\n",
       "      <td>China</td>\n",
       "      <td>39.3054</td>\n",
       "      <td>117.3230</td>\n",
       "      <td>2020-01-22</td>\n",
       "      <td>4.0</td>\n",
       "      <td>0.0</td>\n",
       "    </tr>\n",
       "    <tr>\n",
       "      <th>2020-01-22</th>\n",
       "      <td>Beijing</td>\n",
       "      <td>China</td>\n",
       "      <td>40.1824</td>\n",
       "      <td>116.4142</td>\n",
       "      <td>2020-01-22</td>\n",
       "      <td>14.0</td>\n",
       "      <td>0.0</td>\n",
       "    </tr>\n",
       "    <tr>\n",
       "      <th>2020-01-22</th>\n",
       "      <td>Guizhou</td>\n",
       "      <td>China</td>\n",
       "      <td>26.8154</td>\n",
       "      <td>106.8748</td>\n",
       "      <td>2020-01-22</td>\n",
       "      <td>1.0</td>\n",
       "      <td>0.0</td>\n",
       "    </tr>\n",
       "    <tr>\n",
       "      <th>2020-01-22</th>\n",
       "      <td>Hunan</td>\n",
       "      <td>China</td>\n",
       "      <td>27.6104</td>\n",
       "      <td>111.7088</td>\n",
       "      <td>2020-01-22</td>\n",
       "      <td>4.0</td>\n",
       "      <td>0.0</td>\n",
       "    </tr>\n",
       "    <tr>\n",
       "      <th>2020-01-22</th>\n",
       "      <td>Anhui</td>\n",
       "      <td>China</td>\n",
       "      <td>31.8257</td>\n",
       "      <td>117.2264</td>\n",
       "      <td>2020-01-22</td>\n",
       "      <td>1.0</td>\n",
       "      <td>0.0</td>\n",
       "    </tr>\n",
       "    <tr>\n",
       "      <th>2020-01-22</th>\n",
       "      <td>Yunnan</td>\n",
       "      <td>China</td>\n",
       "      <td>24.9740</td>\n",
       "      <td>101.4870</td>\n",
       "      <td>2020-01-22</td>\n",
       "      <td>1.0</td>\n",
       "      <td>0.0</td>\n",
       "    </tr>\n",
       "    <tr>\n",
       "      <th>2020-01-22</th>\n",
       "      <td>Jiangxi</td>\n",
       "      <td>China</td>\n",
       "      <td>27.6140</td>\n",
       "      <td>115.7221</td>\n",
       "      <td>2020-01-22</td>\n",
       "      <td>2.0</td>\n",
       "      <td>0.0</td>\n",
       "    </tr>\n",
       "    <tr>\n",
       "      <th>2020-01-22</th>\n",
       "      <td>Chongqing</td>\n",
       "      <td>China</td>\n",
       "      <td>30.0572</td>\n",
       "      <td>107.8740</td>\n",
       "      <td>2020-01-22</td>\n",
       "      <td>6.0</td>\n",
       "      <td>0.0</td>\n",
       "    </tr>\n",
       "    <tr>\n",
       "      <th>2020-01-22</th>\n",
       "      <td>Guangxi</td>\n",
       "      <td>China</td>\n",
       "      <td>23.8298</td>\n",
       "      <td>108.7881</td>\n",
       "      <td>2020-01-22</td>\n",
       "      <td>2.0</td>\n",
       "      <td>0.0</td>\n",
       "    </tr>\n",
       "    <tr>\n",
       "      <th>2020-01-22</th>\n",
       "      <td>Tibet</td>\n",
       "      <td>China</td>\n",
       "      <td>31.6927</td>\n",
       "      <td>88.0924</td>\n",
       "      <td>2020-01-22</td>\n",
       "      <td>0.0</td>\n",
       "      <td>0.0</td>\n",
       "    </tr>\n",
       "    <tr>\n",
       "      <th>2020-01-22</th>\n",
       "      <td>Gansu</td>\n",
       "      <td>China</td>\n",
       "      <td>37.8099</td>\n",
       "      <td>101.0583</td>\n",
       "      <td>2020-01-22</td>\n",
       "      <td>0.0</td>\n",
       "      <td>0.0</td>\n",
       "    </tr>\n",
       "    <tr>\n",
       "      <th>2020-01-22</th>\n",
       "      <td>Shanxi</td>\n",
       "      <td>China</td>\n",
       "      <td>37.5777</td>\n",
       "      <td>112.2922</td>\n",
       "      <td>2020-01-22</td>\n",
       "      <td>1.0</td>\n",
       "      <td>0.0</td>\n",
       "    </tr>\n",
       "    <tr>\n",
       "      <th>2020-01-22</th>\n",
       "      <td>Sichuan</td>\n",
       "      <td>China</td>\n",
       "      <td>30.6171</td>\n",
       "      <td>102.7103</td>\n",
       "      <td>2020-01-22</td>\n",
       "      <td>5.0</td>\n",
       "      <td>0.0</td>\n",
       "    </tr>\n",
       "    <tr>\n",
       "      <th>2020-01-22</th>\n",
       "      <td>Guangdong</td>\n",
       "      <td>China</td>\n",
       "      <td>23.3417</td>\n",
       "      <td>113.4244</td>\n",
       "      <td>2020-01-22</td>\n",
       "      <td>26.0</td>\n",
       "      <td>0.0</td>\n",
       "    </tr>\n",
       "    <tr>\n",
       "      <th>2020-01-22</th>\n",
       "      <td>Xinjiang</td>\n",
       "      <td>China</td>\n",
       "      <td>41.1129</td>\n",
       "      <td>85.2401</td>\n",
       "      <td>2020-01-22</td>\n",
       "      <td>0.0</td>\n",
       "      <td>0.0</td>\n",
       "    </tr>\n",
       "    <tr>\n",
       "      <th>2020-01-22</th>\n",
       "      <td>Shaanxi</td>\n",
       "      <td>China</td>\n",
       "      <td>35.1917</td>\n",
       "      <td>108.8701</td>\n",
       "      <td>2020-01-22</td>\n",
       "      <td>0.0</td>\n",
       "      <td>0.0</td>\n",
       "    </tr>\n",
       "    <tr>\n",
       "      <th>2020-01-22</th>\n",
       "      <td>Heilongjiang</td>\n",
       "      <td>China</td>\n",
       "      <td>47.8620</td>\n",
       "      <td>127.7615</td>\n",
       "      <td>2020-01-22</td>\n",
       "      <td>0.0</td>\n",
       "      <td>0.0</td>\n",
       "    </tr>\n",
       "    <tr>\n",
       "      <th>2020-01-22</th>\n",
       "      <td>Henan</td>\n",
       "      <td>China</td>\n",
       "      <td>33.8820</td>\n",
       "      <td>113.6140</td>\n",
       "      <td>2020-01-22</td>\n",
       "      <td>5.0</td>\n",
       "      <td>0.0</td>\n",
       "    </tr>\n",
       "    <tr>\n",
       "      <th>2020-01-22</th>\n",
       "      <td>Ningxia</td>\n",
       "      <td>China</td>\n",
       "      <td>37.2692</td>\n",
       "      <td>106.1655</td>\n",
       "      <td>2020-01-22</td>\n",
       "      <td>1.0</td>\n",
       "      <td>0.0</td>\n",
       "    </tr>\n",
       "    <tr>\n",
       "      <th>2020-01-22</th>\n",
       "      <td>Hubei</td>\n",
       "      <td>China</td>\n",
       "      <td>30.9756</td>\n",
       "      <td>112.2707</td>\n",
       "      <td>2020-01-22</td>\n",
       "      <td>444.0</td>\n",
       "      <td>17.0</td>\n",
       "    </tr>\n",
       "    <tr>\n",
       "      <th>...</th>\n",
       "      <td>...</td>\n",
       "      <td>...</td>\n",
       "      <td>...</td>\n",
       "      <td>...</td>\n",
       "      <td>...</td>\n",
       "      <td>...</td>\n",
       "      <td>...</td>\n",
       "    </tr>\n",
       "    <tr>\n",
       "      <th>2020-04-18</th>\n",
       "      <td>Qinghai</td>\n",
       "      <td>China</td>\n",
       "      <td>35.7452</td>\n",
       "      <td>95.9956</td>\n",
       "      <td>2020-04-18</td>\n",
       "      <td>18.0</td>\n",
       "      <td>0.0</td>\n",
       "    </tr>\n",
       "    <tr>\n",
       "      <th>2020-04-18</th>\n",
       "      <td>Guangdong</td>\n",
       "      <td>China</td>\n",
       "      <td>23.3417</td>\n",
       "      <td>113.4244</td>\n",
       "      <td>2020-04-18</td>\n",
       "      <td>1579.0</td>\n",
       "      <td>8.0</td>\n",
       "    </tr>\n",
       "    <tr>\n",
       "      <th>2020-04-18</th>\n",
       "      <td>Hong Kong</td>\n",
       "      <td>China</td>\n",
       "      <td>22.3000</td>\n",
       "      <td>114.2000</td>\n",
       "      <td>2020-04-18</td>\n",
       "      <td>1024.0</td>\n",
       "      <td>4.0</td>\n",
       "    </tr>\n",
       "    <tr>\n",
       "      <th>2020-04-18</th>\n",
       "      <td>Henan</td>\n",
       "      <td>China</td>\n",
       "      <td>33.8820</td>\n",
       "      <td>113.6140</td>\n",
       "      <td>2020-04-18</td>\n",
       "      <td>1276.0</td>\n",
       "      <td>22.0</td>\n",
       "    </tr>\n",
       "    <tr>\n",
       "      <th>2020-04-18</th>\n",
       "      <td>Guangxi</td>\n",
       "      <td>China</td>\n",
       "      <td>23.8298</td>\n",
       "      <td>108.7881</td>\n",
       "      <td>2020-04-18</td>\n",
       "      <td>254.0</td>\n",
       "      <td>2.0</td>\n",
       "    </tr>\n",
       "    <tr>\n",
       "      <th>2020-04-18</th>\n",
       "      <td>Shaanxi</td>\n",
       "      <td>China</td>\n",
       "      <td>35.1917</td>\n",
       "      <td>108.8701</td>\n",
       "      <td>2020-04-18</td>\n",
       "      <td>256.0</td>\n",
       "      <td>3.0</td>\n",
       "    </tr>\n",
       "    <tr>\n",
       "      <th>2020-04-18</th>\n",
       "      <td>Tibet</td>\n",
       "      <td>China</td>\n",
       "      <td>31.6927</td>\n",
       "      <td>88.0924</td>\n",
       "      <td>2020-04-18</td>\n",
       "      <td>1.0</td>\n",
       "      <td>0.0</td>\n",
       "    </tr>\n",
       "    <tr>\n",
       "      <th>2020-04-18</th>\n",
       "      <td>Ningxia</td>\n",
       "      <td>China</td>\n",
       "      <td>37.2692</td>\n",
       "      <td>106.1655</td>\n",
       "      <td>2020-04-18</td>\n",
       "      <td>75.0</td>\n",
       "      <td>0.0</td>\n",
       "    </tr>\n",
       "    <tr>\n",
       "      <th>2020-04-18</th>\n",
       "      <td>Hubei</td>\n",
       "      <td>China</td>\n",
       "      <td>30.9756</td>\n",
       "      <td>112.2707</td>\n",
       "      <td>2020-04-18</td>\n",
       "      <td>68128.0</td>\n",
       "      <td>4512.0</td>\n",
       "    </tr>\n",
       "    <tr>\n",
       "      <th>2020-04-18</th>\n",
       "      <td>Gansu</td>\n",
       "      <td>China</td>\n",
       "      <td>37.8099</td>\n",
       "      <td>101.0583</td>\n",
       "      <td>2020-04-18</td>\n",
       "      <td>139.0</td>\n",
       "      <td>2.0</td>\n",
       "    </tr>\n",
       "    <tr>\n",
       "      <th>2020-04-18</th>\n",
       "      <td>Sichuan</td>\n",
       "      <td>China</td>\n",
       "      <td>30.6171</td>\n",
       "      <td>102.7103</td>\n",
       "      <td>2020-04-18</td>\n",
       "      <td>561.0</td>\n",
       "      <td>3.0</td>\n",
       "    </tr>\n",
       "    <tr>\n",
       "      <th>2020-04-18</th>\n",
       "      <td>Xinjiang</td>\n",
       "      <td>China</td>\n",
       "      <td>41.1129</td>\n",
       "      <td>85.2401</td>\n",
       "      <td>2020-04-18</td>\n",
       "      <td>76.0</td>\n",
       "      <td>3.0</td>\n",
       "    </tr>\n",
       "    <tr>\n",
       "      <th>2020-04-18</th>\n",
       "      <td>Macau</td>\n",
       "      <td>China</td>\n",
       "      <td>22.1667</td>\n",
       "      <td>113.5500</td>\n",
       "      <td>2020-04-18</td>\n",
       "      <td>45.0</td>\n",
       "      <td>0.0</td>\n",
       "    </tr>\n",
       "    <tr>\n",
       "      <th>2020-04-18</th>\n",
       "      <td>Hainan</td>\n",
       "      <td>China</td>\n",
       "      <td>19.1959</td>\n",
       "      <td>109.7453</td>\n",
       "      <td>2020-04-18</td>\n",
       "      <td>168.0</td>\n",
       "      <td>6.0</td>\n",
       "    </tr>\n",
       "    <tr>\n",
       "      <th>2020-04-18</th>\n",
       "      <td>Heilongjiang</td>\n",
       "      <td>China</td>\n",
       "      <td>47.8620</td>\n",
       "      <td>127.7615</td>\n",
       "      <td>2020-04-18</td>\n",
       "      <td>892.0</td>\n",
       "      <td>13.0</td>\n",
       "    </tr>\n",
       "    <tr>\n",
       "      <th>2020-04-18</th>\n",
       "      <td>Fujian</td>\n",
       "      <td>China</td>\n",
       "      <td>26.0789</td>\n",
       "      <td>117.9874</td>\n",
       "      <td>2020-04-18</td>\n",
       "      <td>355.0</td>\n",
       "      <td>1.0</td>\n",
       "    </tr>\n",
       "    <tr>\n",
       "      <th>2020-04-18</th>\n",
       "      <td>Guizhou</td>\n",
       "      <td>China</td>\n",
       "      <td>26.8154</td>\n",
       "      <td>106.8748</td>\n",
       "      <td>2020-04-18</td>\n",
       "      <td>146.0</td>\n",
       "      <td>2.0</td>\n",
       "    </tr>\n",
       "    <tr>\n",
       "      <th>2020-04-18</th>\n",
       "      <td>Shandong</td>\n",
       "      <td>China</td>\n",
       "      <td>36.3427</td>\n",
       "      <td>118.1498</td>\n",
       "      <td>2020-04-18</td>\n",
       "      <td>787.0</td>\n",
       "      <td>7.0</td>\n",
       "    </tr>\n",
       "    <tr>\n",
       "      <th>2020-04-18</th>\n",
       "      <td>Yunnan</td>\n",
       "      <td>China</td>\n",
       "      <td>24.9740</td>\n",
       "      <td>101.4870</td>\n",
       "      <td>2020-04-18</td>\n",
       "      <td>184.0</td>\n",
       "      <td>2.0</td>\n",
       "    </tr>\n",
       "    <tr>\n",
       "      <th>2020-04-18</th>\n",
       "      <td>Liaoning</td>\n",
       "      <td>China</td>\n",
       "      <td>41.2956</td>\n",
       "      <td>122.6085</td>\n",
       "      <td>2020-04-18</td>\n",
       "      <td>146.0</td>\n",
       "      <td>2.0</td>\n",
       "    </tr>\n",
       "    <tr>\n",
       "      <th>2020-04-18</th>\n",
       "      <td>Inner Mongolia</td>\n",
       "      <td>China</td>\n",
       "      <td>44.0935</td>\n",
       "      <td>113.9448</td>\n",
       "      <td>2020-04-18</td>\n",
       "      <td>193.0</td>\n",
       "      <td>1.0</td>\n",
       "    </tr>\n",
       "    <tr>\n",
       "      <th>2020-04-18</th>\n",
       "      <td>Chongqing</td>\n",
       "      <td>China</td>\n",
       "      <td>30.0572</td>\n",
       "      <td>107.8740</td>\n",
       "      <td>2020-04-18</td>\n",
       "      <td>579.0</td>\n",
       "      <td>6.0</td>\n",
       "    </tr>\n",
       "    <tr>\n",
       "      <th>2020-04-18</th>\n",
       "      <td>Jilin</td>\n",
       "      <td>China</td>\n",
       "      <td>43.6661</td>\n",
       "      <td>126.1923</td>\n",
       "      <td>2020-04-18</td>\n",
       "      <td>102.0</td>\n",
       "      <td>1.0</td>\n",
       "    </tr>\n",
       "    <tr>\n",
       "      <th>2020-04-18</th>\n",
       "      <td>Shanxi</td>\n",
       "      <td>China</td>\n",
       "      <td>37.5777</td>\n",
       "      <td>112.2922</td>\n",
       "      <td>2020-04-18</td>\n",
       "      <td>197.0</td>\n",
       "      <td>0.0</td>\n",
       "    </tr>\n",
       "    <tr>\n",
       "      <th>2020-04-18</th>\n",
       "      <td>Beijing</td>\n",
       "      <td>China</td>\n",
       "      <td>40.1824</td>\n",
       "      <td>116.4142</td>\n",
       "      <td>2020-04-18</td>\n",
       "      <td>593.0</td>\n",
       "      <td>8.0</td>\n",
       "    </tr>\n",
       "    <tr>\n",
       "      <th>2020-04-18</th>\n",
       "      <td>Zhejiang</td>\n",
       "      <td>China</td>\n",
       "      <td>29.1832</td>\n",
       "      <td>120.0934</td>\n",
       "      <td>2020-04-18</td>\n",
       "      <td>1268.0</td>\n",
       "      <td>1.0</td>\n",
       "    </tr>\n",
       "    <tr>\n",
       "      <th>2020-04-18</th>\n",
       "      <td>Hebei</td>\n",
       "      <td>China</td>\n",
       "      <td>39.5490</td>\n",
       "      <td>116.1306</td>\n",
       "      <td>2020-04-18</td>\n",
       "      <td>328.0</td>\n",
       "      <td>6.0</td>\n",
       "    </tr>\n",
       "    <tr>\n",
       "      <th>2020-04-18</th>\n",
       "      <td>Jiangsu</td>\n",
       "      <td>China</td>\n",
       "      <td>32.9711</td>\n",
       "      <td>119.4550</td>\n",
       "      <td>2020-04-18</td>\n",
       "      <td>653.0</td>\n",
       "      <td>0.0</td>\n",
       "    </tr>\n",
       "    <tr>\n",
       "      <th>2020-04-18</th>\n",
       "      <td>Hunan</td>\n",
       "      <td>China</td>\n",
       "      <td>27.6104</td>\n",
       "      <td>111.7088</td>\n",
       "      <td>2020-04-18</td>\n",
       "      <td>1019.0</td>\n",
       "      <td>4.0</td>\n",
       "    </tr>\n",
       "    <tr>\n",
       "      <th>2020-04-18</th>\n",
       "      <td>Anhui</td>\n",
       "      <td>China</td>\n",
       "      <td>31.8257</td>\n",
       "      <td>117.2264</td>\n",
       "      <td>2020-04-18</td>\n",
       "      <td>991.0</td>\n",
       "      <td>6.0</td>\n",
       "    </tr>\n",
       "  </tbody>\n",
       "</table>\n",
       "<p>2904 rows × 7 columns</p>\n",
       "</div>"
      ],
      "text/plain": [
       "0           Province/State Country/Region      Lat      Long       Date  \\\n",
       "Date                                                                      \n",
       "2020-01-22        Zhejiang          China  29.1832  120.0934 2020-01-22   \n",
       "2020-01-22       Hong Kong          China  22.3000  114.2000 2020-01-22   \n",
       "2020-01-22         Jiangsu          China  32.9711  119.4550 2020-01-22   \n",
       "2020-01-22  Inner Mongolia          China  44.0935  113.9448 2020-01-22   \n",
       "2020-01-22        Shanghai          China  31.2020  121.4491 2020-01-22   \n",
       "2020-01-22        Liaoning          China  41.2956  122.6085 2020-01-22   \n",
       "2020-01-22          Hainan          China  19.1959  109.7453 2020-01-22   \n",
       "2020-01-22        Shandong          China  36.3427  118.1498 2020-01-22   \n",
       "2020-01-22          Fujian          China  26.0789  117.9874 2020-01-22   \n",
       "2020-01-22         Qinghai          China  35.7452   95.9956 2020-01-22   \n",
       "2020-01-22         Tianjin          China  39.3054  117.3230 2020-01-22   \n",
       "2020-01-22         Beijing          China  40.1824  116.4142 2020-01-22   \n",
       "2020-01-22         Guizhou          China  26.8154  106.8748 2020-01-22   \n",
       "2020-01-22           Hunan          China  27.6104  111.7088 2020-01-22   \n",
       "2020-01-22           Anhui          China  31.8257  117.2264 2020-01-22   \n",
       "2020-01-22          Yunnan          China  24.9740  101.4870 2020-01-22   \n",
       "2020-01-22         Jiangxi          China  27.6140  115.7221 2020-01-22   \n",
       "2020-01-22       Chongqing          China  30.0572  107.8740 2020-01-22   \n",
       "2020-01-22         Guangxi          China  23.8298  108.7881 2020-01-22   \n",
       "2020-01-22           Tibet          China  31.6927   88.0924 2020-01-22   \n",
       "2020-01-22           Gansu          China  37.8099  101.0583 2020-01-22   \n",
       "2020-01-22          Shanxi          China  37.5777  112.2922 2020-01-22   \n",
       "2020-01-22         Sichuan          China  30.6171  102.7103 2020-01-22   \n",
       "2020-01-22       Guangdong          China  23.3417  113.4244 2020-01-22   \n",
       "2020-01-22        Xinjiang          China  41.1129   85.2401 2020-01-22   \n",
       "2020-01-22         Shaanxi          China  35.1917  108.8701 2020-01-22   \n",
       "2020-01-22    Heilongjiang          China  47.8620  127.7615 2020-01-22   \n",
       "2020-01-22           Henan          China  33.8820  113.6140 2020-01-22   \n",
       "2020-01-22         Ningxia          China  37.2692  106.1655 2020-01-22   \n",
       "2020-01-22           Hubei          China  30.9756  112.2707 2020-01-22   \n",
       "...                    ...            ...      ...       ...        ...   \n",
       "2020-04-18         Qinghai          China  35.7452   95.9956 2020-04-18   \n",
       "2020-04-18       Guangdong          China  23.3417  113.4244 2020-04-18   \n",
       "2020-04-18       Hong Kong          China  22.3000  114.2000 2020-04-18   \n",
       "2020-04-18           Henan          China  33.8820  113.6140 2020-04-18   \n",
       "2020-04-18         Guangxi          China  23.8298  108.7881 2020-04-18   \n",
       "2020-04-18         Shaanxi          China  35.1917  108.8701 2020-04-18   \n",
       "2020-04-18           Tibet          China  31.6927   88.0924 2020-04-18   \n",
       "2020-04-18         Ningxia          China  37.2692  106.1655 2020-04-18   \n",
       "2020-04-18           Hubei          China  30.9756  112.2707 2020-04-18   \n",
       "2020-04-18           Gansu          China  37.8099  101.0583 2020-04-18   \n",
       "2020-04-18         Sichuan          China  30.6171  102.7103 2020-04-18   \n",
       "2020-04-18        Xinjiang          China  41.1129   85.2401 2020-04-18   \n",
       "2020-04-18           Macau          China  22.1667  113.5500 2020-04-18   \n",
       "2020-04-18          Hainan          China  19.1959  109.7453 2020-04-18   \n",
       "2020-04-18    Heilongjiang          China  47.8620  127.7615 2020-04-18   \n",
       "2020-04-18          Fujian          China  26.0789  117.9874 2020-04-18   \n",
       "2020-04-18         Guizhou          China  26.8154  106.8748 2020-04-18   \n",
       "2020-04-18        Shandong          China  36.3427  118.1498 2020-04-18   \n",
       "2020-04-18          Yunnan          China  24.9740  101.4870 2020-04-18   \n",
       "2020-04-18        Liaoning          China  41.2956  122.6085 2020-04-18   \n",
       "2020-04-18  Inner Mongolia          China  44.0935  113.9448 2020-04-18   \n",
       "2020-04-18       Chongqing          China  30.0572  107.8740 2020-04-18   \n",
       "2020-04-18           Jilin          China  43.6661  126.1923 2020-04-18   \n",
       "2020-04-18          Shanxi          China  37.5777  112.2922 2020-04-18   \n",
       "2020-04-18         Beijing          China  40.1824  116.4142 2020-04-18   \n",
       "2020-04-18        Zhejiang          China  29.1832  120.0934 2020-04-18   \n",
       "2020-04-18           Hebei          China  39.5490  116.1306 2020-04-18   \n",
       "2020-04-18         Jiangsu          China  32.9711  119.4550 2020-04-18   \n",
       "2020-04-18           Hunan          China  27.6104  111.7088 2020-04-18   \n",
       "2020-04-18           Anhui          China  31.8257  117.2264 2020-04-18   \n",
       "\n",
       "0           Infected  Deaths  \n",
       "Date                          \n",
       "2020-01-22      10.0     0.0  \n",
       "2020-01-22       0.0     0.0  \n",
       "2020-01-22       1.0     0.0  \n",
       "2020-01-22       0.0     0.0  \n",
       "2020-01-22       9.0     0.0  \n",
       "2020-01-22       2.0     0.0  \n",
       "2020-01-22       4.0     0.0  \n",
       "2020-01-22       2.0     0.0  \n",
       "2020-01-22       1.0     0.0  \n",
       "2020-01-22       0.0     0.0  \n",
       "2020-01-22       4.0     0.0  \n",
       "2020-01-22      14.0     0.0  \n",
       "2020-01-22       1.0     0.0  \n",
       "2020-01-22       4.0     0.0  \n",
       "2020-01-22       1.0     0.0  \n",
       "2020-01-22       1.0     0.0  \n",
       "2020-01-22       2.0     0.0  \n",
       "2020-01-22       6.0     0.0  \n",
       "2020-01-22       2.0     0.0  \n",
       "2020-01-22       0.0     0.0  \n",
       "2020-01-22       0.0     0.0  \n",
       "2020-01-22       1.0     0.0  \n",
       "2020-01-22       5.0     0.0  \n",
       "2020-01-22      26.0     0.0  \n",
       "2020-01-22       0.0     0.0  \n",
       "2020-01-22       0.0     0.0  \n",
       "2020-01-22       0.0     0.0  \n",
       "2020-01-22       5.0     0.0  \n",
       "2020-01-22       1.0     0.0  \n",
       "2020-01-22     444.0    17.0  \n",
       "...              ...     ...  \n",
       "2020-04-18      18.0     0.0  \n",
       "2020-04-18    1579.0     8.0  \n",
       "2020-04-18    1024.0     4.0  \n",
       "2020-04-18    1276.0    22.0  \n",
       "2020-04-18     254.0     2.0  \n",
       "2020-04-18     256.0     3.0  \n",
       "2020-04-18       1.0     0.0  \n",
       "2020-04-18      75.0     0.0  \n",
       "2020-04-18   68128.0  4512.0  \n",
       "2020-04-18     139.0     2.0  \n",
       "2020-04-18     561.0     3.0  \n",
       "2020-04-18      76.0     3.0  \n",
       "2020-04-18      45.0     0.0  \n",
       "2020-04-18     168.0     6.0  \n",
       "2020-04-18     892.0    13.0  \n",
       "2020-04-18     355.0     1.0  \n",
       "2020-04-18     146.0     2.0  \n",
       "2020-04-18     787.0     7.0  \n",
       "2020-04-18     184.0     2.0  \n",
       "2020-04-18     146.0     2.0  \n",
       "2020-04-18     193.0     1.0  \n",
       "2020-04-18     579.0     6.0  \n",
       "2020-04-18     102.0     1.0  \n",
       "2020-04-18     197.0     0.0  \n",
       "2020-04-18     593.0     8.0  \n",
       "2020-04-18    1268.0     1.0  \n",
       "2020-04-18     328.0     6.0  \n",
       "2020-04-18     653.0     0.0  \n",
       "2020-04-18    1019.0     4.0  \n",
       "2020-04-18     991.0     6.0  \n",
       "\n",
       "[2904 rows x 7 columns]"
      ]
     },
     "execution_count": 6,
     "metadata": {},
     "output_type": "execute_result"
    }
   ],
   "source": [
    "CH = country_filter(data, Country='China')"
   ]
  },
  {
   "cell_type": "markdown",
   "metadata": {},
   "source": [
    "### Plot growth rate of Covid 19 in Germany"
   ]
  },
  {
   "cell_type": "code",
   "execution_count": 7,
   "metadata": {},
   "outputs": [
    {
     "data": {
      "text/plain": [
       "Text(0,0.5,'Infections')"
      ]
     },
     "execution_count": 7,
     "metadata": {},
     "output_type": "execute_result"
    },
    {
     "data": {
      "image/png": "[encoded data removed]",
      "text/plain": [
       "<matplotlib.figure.Figure at 0x10e231a58>"
      ]
     },
     "metadata": {
      "needs_background": "light"
     },
     "output_type": "display_data"
    }
   ],
   "source": [
    "fig, ax = plt.subplots()\n",
    "DE.loc[:,'Infected'].iloc[1:].plot()\n",
    "ax.set_ylabel('Infections')"
   ]
  },
  {
   "cell_type": "markdown",
   "metadata": {},
   "source": [
    "### Plot new infections of Covid 19 in Germany"
   ]
  },
  {
   "cell_type": "code",
   "execution_count": 8,
   "metadata": {},
   "outputs": [
    {
     "data": {
      "text/plain": [
       "Text(0,0.5,'New infections')"
      ]
     },
     "execution_count": 8,
     "metadata": {},
     "output_type": "execute_result"
    },
    {
     "data": {
      "image/png": "[encoded data removed]",
      "text/plain": [
       "<matplotlib.figure.Figure at 0x112e8e550>"
      ]
     },
     "metadata": {
      "needs_background": "light"
     },
     "output_type": "display_data"
    }
   ],
   "source": [
    "fig, ax = plt.subplots()\n",
    "DE.loc[:,'Infected'].diff().iloc[1:].plot()\n",
    "ax.set_ylabel('New infections')"
   ]
  },
  {
   "cell_type": "markdown",
   "metadata": {},
   "source": [
    "### Plot log of growth rate of Covid 19 in Germany"
   ]
  },
  {
   "cell_type": "code",
   "execution_count": 9,
   "metadata": {},
   "outputs": [
    {
     "data": {
      "text/plain": [
       "Text(0,0.5,'New_Infections')"
      ]
     },
     "execution_count": 9,
     "metadata": {},
     "output_type": "execute_result"
    },
    {
     "data": {
      "image/png": "[encoded data removed]",
      "text/plain": [
       "<matplotlib.figure.Figure at 0x112e42b70>"
      ]
     },
     "metadata": {
      "needs_background": "light"
     },
     "output_type": "display_data"
    }
   ],
   "source": [
    "fig, ax = plt.subplots()\n",
    "np.log(DE.loc[:,'Infected']).iloc[1:].plot()\n",
    "ax.set_ylabel('New_Infections')\n"
   ]
  },
  {
   "cell_type": "markdown",
   "metadata": {},
   "source": [
    "### Analyse the stationarity of the time series "
   ]
  },
  {
   "cell_type": "code",
   "execution_count": 10,
   "metadata": {},
   "outputs": [
    {
     "name": "stdout",
     "output_type": "stream",
     "text": [
      "AdFuller: 0.08347649045726363\n",
      "KPSS: 0.1\n"
     ]
    },
    {
     "name": "stderr",
     "output_type": "stream",
     "text": [
      "/Library/Frameworks/Python.framework/Versions/3.6/lib/python3.6/site-packages/statsmodels/tsa/stattools.py:1711: InterpolationWarning: p-value is greater than the indicated p-value\n",
      "  warn(\"p-value is greater than the indicated p-value\", InterpolationWarning)\n"
     ]
    }
   ],
   "source": [
    "from statsmodels.tsa.stattools import kpss\n",
    "from statsmodels.tsa.stattools import adfuller\n",
    "from statsmodels.graphics.tsaplots import plot_acf, plot_pacf\n",
    "print('AdFuller:',adfuller(np.log(DE.loc[:,'Infected']).diff()[1:])[1])\n",
    "print('KPSS:',kpss(np.log(DE.loc[:,'Infected']).diff()[1:])[1])"
   ]
  },
  {
   "cell_type": "code",
   "execution_count": 11,
   "metadata": {},
   "outputs": [
    {
     "name": "stdout",
     "output_type": "stream",
     "text": [
      "Indicates AR 1 Process\n"
     ]
    },
    {
     "data": {
      "image/png": "[encoded data removed]",
      "text/plain": [
       "<matplotlib.figure.Figure at 0x112bd6fd0>"
      ]
     },
     "metadata": {
      "needs_background": "light"
     },
     "output_type": "display_data"
    },
    {
     "data": {
      "image/png": "[encoded data removed]",
      "text/plain": [
       "<matplotlib.figure.Figure at 0x112bd62e8>"
      ]
     },
     "metadata": {
      "needs_background": "light"
     },
     "output_type": "display_data"
    }
   ],
   "source": [
    "plot_acf(np.log(DE.loc[:,'Infected'])[1:])\n",
    "plot_pacf(np.log(DE.loc[:,'Infected'])[1:])\n",
    "print('Indicates AR 1 Process')"
   ]
  },
  {
   "cell_type": "markdown",
   "metadata": {},
   "source": [
    "### Fit ARIMA model with Auto ARIMA "
   ]
  },
  {
   "cell_type": "code",
   "execution_count": 12,
   "metadata": {
    "scrolled": true
   },
   "outputs": [
    {
     "name": "stderr",
     "output_type": "stream",
     "text": [
      "/Library/Frameworks/Python.framework/Versions/3.6/lib/python3.6/site-packages/sklearn/externals/six.py:31: DeprecationWarning: The module is deprecated in version 0.21 and will be removed in version 0.23 since we've dropped support for Python 2.7. Please rely on the official version of six (https://pypi.org/project/six/).\n",
      "  \"(https://pypi.org/project/six/).\", DeprecationWarning)\n",
      "/Library/Frameworks/Python.framework/Versions/3.6/lib/python3.6/site-packages/sklearn/externals/joblib/__init__.py:15: DeprecationWarning: sklearn.externals.joblib is deprecated in 0.21 and will be removed in 0.23. Please import this functionality directly from joblib, which can be installed with: pip install joblib. If this warning is raised when loading pickled models, you may need to re-serialize those models with scikit-learn 0.21+.\n",
      "  warnings.warn(msg, category=DeprecationWarning)\n"
     ]
    },
    {
     "name": "stdout",
     "output_type": "stream",
     "text": [
      "Fit ARIMA: order=(0, 1, 0); AIC=-72.398, BIC=-67.609, Fit time=0.210 seconds\n",
      "Fit ARIMA: order=(1, 1, 0); AIC=-99.093, BIC=-91.910, Fit time=0.366 seconds\n",
      "Fit ARIMA: order=(0, 1, 1); AIC=-91.498, BIC=-84.314, Fit time=0.070 seconds\n",
      "Fit ARIMA: order=(1, 1, 1); AIC=-102.754, BIC=-93.176, Fit time=0.125 seconds\n",
      "Total fit time: 0.797 seconds\n",
      "-102.75371148685821\n"
     ]
    }
   ],
   "source": [
    "from statsmodels.tools import eval_measures\n",
    "from pyramid.arima import auto_arima\n",
    "stepwise_model = auto_arima(np.log(DE.loc[:,'Infected'])[1:], start_p=0, start_q=0,\n",
    "                           max_p=1, max_q=1, m=1,\n",
    "                           start_P=0, seasonal=False,\n",
    "                           d=1, D=0, trace=True,\n",
    "                           error_action='ignore',  \n",
    "                           suppress_warnings=True, \n",
    "                           stepwise=True)\n",
    "print(stepwise_model.aic())\n",
    "\n"
   ]
  },
  {
   "cell_type": "markdown",
   "metadata": {},
   "source": [
    "### Forecasting "
   ]
  },
  {
   "cell_type": "code",
   "execution_count": 13,
   "metadata": {},
   "outputs": [
    {
     "name": "stdout",
     "output_type": "stream",
     "text": [
      "Root Mean Squared Error: 10753.79670999718\n"
     ]
    }
   ],
   "source": [
    "train = pd.Series(np.log(DE.loc[:,'Infected'])[1:-3])\n",
    "test = pd.Series(np.log(DE.loc[:,'Infected'])[-3:])\n",
    "stepwise_model.fit(train)\n",
    "future_forecast = stepwise_model.predict(n_periods=3)\n",
    "#Back transformation\n",
    "train, test, future_forecast = np.exp(train), np.exp(test) , np.exp(future_forecast)\n",
    "ARIMA_RMSE = eval_measures.rmse(test, future_forecast)\n",
    "print('Root Mean Squared Error:',ARIMA_RMSE)"
   ]
  },
  {
   "cell_type": "code",
   "execution_count": 14,
   "metadata": {},
   "outputs": [],
   "source": [
    "future_forecast = pd.Series(future_forecast, index= test.index)\n",
    "test_series = train.append(test)\n",
    "forecast_series = train.append(future_forecast)"
   ]
  },
  {
   "cell_type": "code",
   "execution_count": 15,
   "metadata": {},
   "outputs": [
    {
     "data": {
      "text/plain": [
       "<matplotlib.legend.Legend at 0x1133e3128>"
      ]
     },
     "execution_count": 15,
     "metadata": {},
     "output_type": "execute_result"
    },
    {
     "data": {
      "image/png": "[encoded data removed]",
      "text/plain": [
       "<matplotlib.figure.Figure at 0x117718da0>"
      ]
     },
     "metadata": {
      "needs_background": "light"
     },
     "output_type": "display_data"
    }
   ],
   "source": [
    "fig, ax = plt.subplots()\n",
    "test_series.iloc[-4:].plot()\n",
    "forecast_series.iloc[-4:].plot()\n",
    "ax.set_ylabel('New_Infections')\n",
    "ax.legend(['Observations', 'Forecast'])"
   ]
  },
  {
   "cell_type": "code",
   "execution_count": 16,
   "metadata": {
    "scrolled": true
   },
   "outputs": [
    {
     "data": {
      "text/plain": [
       "<matplotlib.legend.Legend at 0x1133dbf98>"
      ]
     },
     "execution_count": 16,
     "metadata": {},
     "output_type": "execute_result"
    },
    {
     "data": {
      "image/png": "[encoded data removed]",
      "text/plain": [
       "<matplotlib.figure.Figure at 0x1134028d0>"
      ]
     },
     "metadata": {
      "needs_background": "light"
     },
     "output_type": "display_data"
    }
   ],
   "source": [
    "fig, ax = plt.subplots()\n",
    "test_series.loc['2020-03-15':].plot()\n",
    "forecast_series.loc['2020-03-15':].plot()\n",
    "ax.set_ylabel('New_Infections')\n",
    "ax.legend(['Observations', 'Forecast'])"
   ]
  },
  {
   "cell_type": "markdown",
   "metadata": {},
   "source": [
    "## Fit dynamic linear model "
   ]
  },
  {
   "cell_type": "code",
   "execution_count": 17,
   "metadata": {},
   "outputs": [
    {
     "name": "stdout",
     "output_type": "stream",
     "text": [
      "Initializing models...\n",
      "Initialization finished.\n",
      "Starting forward filtering...\n",
      "Forward filtering completed.\n"
     ]
    }
   ],
   "source": [
    "from pydlm import dlm, trend, dynamic, autoReg\n",
    "dm = dlm(DE.loc[:,'Infected']) + trend(degree=2, discount=0.95, name='quad')\n",
    "dm = dm + autoReg(degree=1, discount=0.95, name='AR1', w=1e7)\n",
    "dm.fitForwardFilter()"
   ]
  },
  {
   "cell_type": "markdown",
   "metadata": {},
   "source": [
    "## Forecasting with KalmanFilter "
   ]
  },
  {
   "cell_type": "code",
   "execution_count": 18,
   "metadata": {},
   "outputs": [
    {
     "name": "stdout",
     "output_type": "stream",
     "text": [
      "Next day prediction: [[145590.76774401]]\n"
     ]
    }
   ],
   "source": [
    "KLpredict,pred_var = dm.predictN(N=3,date=dm.n - 3 )\n",
    "next_day,_ = dm.predict()\n",
    "print('Next day prediction:', next_day)"
   ]
  },
  {
   "cell_type": "code",
   "execution_count": 19,
   "metadata": {},
   "outputs": [
    {
     "name": "stdout",
     "output_type": "stream",
     "text": [
      "Kalman RMSE: 806.4205852529838\n",
      "ARIMA RMSE: 10753.79670999718\n"
     ]
    }
   ],
   "source": [
    "#Calculate the standard deviation\n",
    "MSE = dm.getMSE()\n",
    "print('Kalman RMSE:',np.sqrt(MSE))\n",
    "print('ARIMA RMSE:',ARIMA_RMSE)"
   ]
  },
  {
   "cell_type": "code",
   "execution_count": 20,
   "metadata": {},
   "outputs": [],
   "source": [
    "KLpredict = pd.Series(KLpredict, index= test.index)\n",
    "test_series = train.append(test)\n",
    "forecast_series = train.append(KLpredict)"
   ]
  },
  {
   "cell_type": "code",
   "execution_count": 21,
   "metadata": {},
   "outputs": [
    {
     "data": {
      "text/plain": [
       "<matplotlib.legend.Legend at 0x11331db70>"
      ]
     },
     "execution_count": 21,
     "metadata": {},
     "output_type": "execute_result"
    },
    {
     "data": {
      "image/png": "[encoded data removed]",
      "text/plain": [
       "<matplotlib.figure.Figure at 0x1133465c0>"
      ]
     },
     "metadata": {
      "needs_background": "light"
     },
     "output_type": "display_data"
    }
   ],
   "source": [
    "fig, ax = plt.subplots()\n",
    "test_series.iloc[-4:].plot()\n",
    "forecast_series.iloc[-4:].plot()\n",
    "ax.set_ylabel('New_Infections')\n",
    "ax.legend(['Observations', 'Forecast'])"
   ]
  },
  {
   "cell_type": "code",
   "execution_count": 22,
   "metadata": {},
   "outputs": [
    {
     "data": {
      "text/plain": [
       "<matplotlib.legend.Legend at 0x1132c8c50>"
      ]
     },
     "execution_count": 22,
     "metadata": {},
     "output_type": "execute_result"
    },
    {
     "data": {
      "image/png": "[encoded data removed]",
      "text/plain": [
       "<matplotlib.figure.Figure at 0x113366198>"
      ]
     },
     "metadata": {
      "needs_background": "light"
     },
     "output_type": "display_data"
    }
   ],
   "source": [
    "fig, ax = plt.subplots()\n",
    "test_series.loc['2020-03-05':].plot()\n",
    "forecast_series.loc['2020-03-05':].plot()\n",
    "ax.set_ylabel('Infections')\n",
    "ax.legend(['Observations', 'Forecast'])"
   ]
  },
  {
   "cell_type": "markdown",
   "metadata": {},
   "source": [
    "# Model growth rate of Covid 19 in China \n",
    "## Fit polynom and extract parameters"
   ]
  },
  {
   "cell_type": "code",
   "execution_count": 40,
   "metadata": {},
   "outputs": [],
   "source": [
    "#Get the Data \n",
    "CH = country_filter(data, Country='China')\n",
    "state_list = CH['Province/State'].drop_duplicates()"
   ]
  },
  {
   "cell_type": "markdown",
   "metadata": {},
   "source": [
    "### Example: Fit polynom to data in Zhejiang "
   ]
  },
  {
   "cell_type": "code",
   "execution_count": 27,
   "metadata": {},
   "outputs": [
    {
     "ename": "TypeError",
     "evalue": "expected non-empty vector for x",
     "output_type": "error",
     "traceback": [
      "\u001b[0;31m---------------------------------------------------------------------------\u001b[0m",
      "\u001b[0;31mTypeError\u001b[0m                                 Traceback (most recent call last)",
      "\u001b[0;32m<ipython-input-27-0a1af5c0b90a>\u001b[0m in \u001b[0;36m<module>\u001b[0;34m\u001b[0m\n\u001b[1;32m      2\u001b[0m \u001b[0mx\u001b[0m \u001b[0;34m=\u001b[0m \u001b[0mnp\u001b[0m\u001b[0;34m.\u001b[0m\u001b[0marray\u001b[0m\u001b[0;34m(\u001b[0m\u001b[0mrange\u001b[0m\u001b[0;34m(\u001b[0m\u001b[0;36m0\u001b[0m\u001b[0;34m,\u001b[0m\u001b[0mlen\u001b[0m\u001b[0;34m(\u001b[0m\u001b[0my\u001b[0m\u001b[0;34m)\u001b[0m\u001b[0;34m)\u001b[0m\u001b[0;34m,\u001b[0m\u001b[0mdtype\u001b[0m\u001b[0;34m=\u001b[0m\u001b[0mfloat\u001b[0m\u001b[0;34m)\u001b[0m\u001b[0;34m\u001b[0m\u001b[0m\n\u001b[1;32m      3\u001b[0m \u001b[0;31m#params,_ = fit(logistic,x,y)\u001b[0m\u001b[0;34m\u001b[0m\u001b[0;34m\u001b[0m\u001b[0m\n\u001b[0;32m----> 4\u001b[0;31m \u001b[0mparams\u001b[0m \u001b[0;34m=\u001b[0m \u001b[0mnp\u001b[0m\u001b[0;34m.\u001b[0m\u001b[0mpolyfit\u001b[0m\u001b[0;34m(\u001b[0m\u001b[0mx\u001b[0m\u001b[0;34m,\u001b[0m\u001b[0my\u001b[0m\u001b[0;34m,\u001b[0m \u001b[0mdeg\u001b[0m\u001b[0;34m=\u001b[0m\u001b[0;36m3\u001b[0m\u001b[0;34m)\u001b[0m\u001b[0;34m\u001b[0m\u001b[0m\n\u001b[0m\u001b[1;32m      5\u001b[0m \u001b[0mp\u001b[0m \u001b[0;34m=\u001b[0m \u001b[0mnp\u001b[0m\u001b[0;34m.\u001b[0m\u001b[0mpoly1d\u001b[0m\u001b[0;34m(\u001b[0m\u001b[0mparams\u001b[0m\u001b[0;34m)\u001b[0m\u001b[0;34m\u001b[0m\u001b[0m\n\u001b[1;32m      6\u001b[0m \u001b[0mprint\u001b[0m\u001b[0;34m(\u001b[0m\u001b[0mparams\u001b[0m\u001b[0;34m)\u001b[0m\u001b[0;34m\u001b[0m\u001b[0m\n",
      "\u001b[0;32m/Library/Frameworks/Python.framework/Versions/3.6/lib/python3.6/site-packages/numpy/lib/polynomial.py\u001b[0m in \u001b[0;36mpolyfit\u001b[0;34m(x, y, deg, rcond, full, w, cov)\u001b[0m\n\u001b[1;32m    596\u001b[0m         \u001b[0;32mraise\u001b[0m \u001b[0mTypeError\u001b[0m\u001b[0;34m(\u001b[0m\u001b[0;34m\"expected 1D vector for x\"\u001b[0m\u001b[0;34m)\u001b[0m\u001b[0;34m\u001b[0m\u001b[0m\n\u001b[1;32m    597\u001b[0m     \u001b[0;32mif\u001b[0m \u001b[0mx\u001b[0m\u001b[0;34m.\u001b[0m\u001b[0msize\u001b[0m \u001b[0;34m==\u001b[0m \u001b[0;36m0\u001b[0m\u001b[0;34m:\u001b[0m\u001b[0;34m\u001b[0m\u001b[0m\n\u001b[0;32m--> 598\u001b[0;31m         \u001b[0;32mraise\u001b[0m \u001b[0mTypeError\u001b[0m\u001b[0;34m(\u001b[0m\u001b[0;34m\"expected non-empty vector for x\"\u001b[0m\u001b[0;34m)\u001b[0m\u001b[0;34m\u001b[0m\u001b[0m\n\u001b[0m\u001b[1;32m    599\u001b[0m     \u001b[0;32mif\u001b[0m \u001b[0my\u001b[0m\u001b[0;34m.\u001b[0m\u001b[0mndim\u001b[0m \u001b[0;34m<\u001b[0m \u001b[0;36m1\u001b[0m \u001b[0;32mor\u001b[0m \u001b[0my\u001b[0m\u001b[0;34m.\u001b[0m\u001b[0mndim\u001b[0m \u001b[0;34m>\u001b[0m \u001b[0;36m2\u001b[0m\u001b[0;34m:\u001b[0m\u001b[0;34m\u001b[0m\u001b[0m\n\u001b[1;32m    600\u001b[0m         \u001b[0;32mraise\u001b[0m \u001b[0mTypeError\u001b[0m\u001b[0;34m(\u001b[0m\u001b[0;34m\"expected 1D or 2D array for y\"\u001b[0m\u001b[0;34m)\u001b[0m\u001b[0;34m\u001b[0m\u001b[0m\n",
      "\u001b[0;31mTypeError\u001b[0m: expected non-empty vector for x"
     ]
    }
   ],
   "source": [
    "y = np.array(CH.loc[CH['Province/State']=='Zhejiang','Infected'].transform(lambda x: x*(100/x.max())))\n",
    "x = np.array(range(0,len(y)),dtype=float)\n",
    "#params,_ = fit(logistic,x,y)\n",
    "params = np.polyfit(x,y, deg=3)\n",
    "p = np.poly1d(params)\n",
    "print(params)"
   ]
  },
  {
   "cell_type": "code",
   "execution_count": 41,
   "metadata": {},
   "outputs": [
    {
     "data": {
      "text/plain": [
       "Series([], Name: Province/State, dtype: object)"
      ]
     },
     "execution_count": 41,
     "metadata": {},
     "output_type": "execute_result"
    }
   ],
   "source": [
    "state_list"
   ]
  },
  {
   "cell_type": "code",
   "execution_count": 42,
   "metadata": {},
   "outputs": [
    {
     "data": {
      "text/html": [
       "<div>\n",
       "<style scoped>\n",
       "    .dataframe tbody tr th:only-of-type {\n",
       "        vertical-align: middle;\n",
       "    }\n",
       "\n",
       "    .dataframe tbody tr th {\n",
       "        vertical-align: top;\n",
       "    }\n",
       "\n",
       "    .dataframe thead th {\n",
       "        text-align: right;\n",
       "    }\n",
       "</style>\n",
       "<table border=\"1\" class=\"dataframe\">\n",
       "  <thead>\n",
       "    <tr style=\"text-align: right;\">\n",
       "      <th></th>\n",
       "      <th>Province/State</th>\n",
       "      <th>Country/Region</th>\n",
       "      <th>Lat</th>\n",
       "      <th>Long</th>\n",
       "      <th>Date</th>\n",
       "      <th>Infected</th>\n",
       "      <th>Deaths</th>\n",
       "    </tr>\n",
       "    <tr>\n",
       "      <th>Date</th>\n",
       "      <th></th>\n",
       "      <th></th>\n",
       "      <th></th>\n",
       "      <th></th>\n",
       "      <th></th>\n",
       "      <th></th>\n",
       "      <th></th>\n",
       "    </tr>\n",
       "  </thead>\n",
       "  <tbody>\n",
       "  </tbody>\n",
       "</table>\n",
       "</div>"
      ],
      "text/plain": [
       "Empty DataFrame\n",
       "Columns: [Province/State, Country/Region, Lat, Long, Date, Infected, Deaths]\n",
       "Index: []"
      ]
     },
     "execution_count": 42,
     "metadata": {},
     "output_type": "execute_result"
    }
   ],
   "source": [
    "CH"
   ]
  },
  {
   "cell_type": "code",
   "execution_count": 24,
   "metadata": {},
   "outputs": [
    {
     "ename": "NameError",
     "evalue": "name 'p' is not defined",
     "output_type": "error",
     "traceback": [
      "\u001b[0;31m---------------------------------------------------------------------------\u001b[0m",
      "\u001b[0;31mNameError\u001b[0m                                 Traceback (most recent call last)",
      "\u001b[0;32m<ipython-input-24-4917ec6baa44>\u001b[0m in \u001b[0;36m<module>\u001b[0;34m\u001b[0m\n\u001b[1;32m      1\u001b[0m \u001b[0mfig\u001b[0m\u001b[0;34m,\u001b[0m \u001b[0maxes\u001b[0m \u001b[0;34m=\u001b[0m \u001b[0mplt\u001b[0m\u001b[0;34m.\u001b[0m\u001b[0msubplots\u001b[0m\u001b[0;34m(\u001b[0m\u001b[0;34m)\u001b[0m\u001b[0;34m\u001b[0m\u001b[0m\n\u001b[1;32m      2\u001b[0m \u001b[0mplt\u001b[0m\u001b[0;34m.\u001b[0m\u001b[0mscatter\u001b[0m\u001b[0;34m(\u001b[0m\u001b[0mx\u001b[0m\u001b[0;34m,\u001b[0m\u001b[0my\u001b[0m\u001b[0;34m)\u001b[0m\u001b[0;34m\u001b[0m\u001b[0m\n\u001b[0;32m----> 3\u001b[0;31m \u001b[0mplt\u001b[0m\u001b[0;34m.\u001b[0m\u001b[0mplot\u001b[0m\u001b[0;34m(\u001b[0m\u001b[0mx\u001b[0m\u001b[0;34m,\u001b[0m\u001b[0mp\u001b[0m\u001b[0;34m(\u001b[0m\u001b[0mx\u001b[0m\u001b[0;34m)\u001b[0m\u001b[0;34m,\u001b[0m\u001b[0mcolor\u001b[0m\u001b[0;34m=\u001b[0m\u001b[0;34m'orange'\u001b[0m\u001b[0;34m)\u001b[0m\u001b[0;34m\u001b[0m\u001b[0m\n\u001b[0m\u001b[1;32m      4\u001b[0m \u001b[0;31m#plt.plot(x,logistic(x,params[0],params[1],params[2],params[3],params[4]),color='orange')\u001b[0m\u001b[0;34m\u001b[0m\u001b[0;34m\u001b[0m\u001b[0m\n\u001b[1;32m      5\u001b[0m \u001b[0maxes\u001b[0m\u001b[0;34m.\u001b[0m\u001b[0mlegend\u001b[0m\u001b[0;34m(\u001b[0m\u001b[0;34m[\u001b[0m\u001b[0;34m'fitted curve'\u001b[0m\u001b[0;34m,\u001b[0m\u001b[0;34m'Obersvations'\u001b[0m\u001b[0;34m]\u001b[0m\u001b[0;34m)\u001b[0m\u001b[0;34m\u001b[0m\u001b[0m\n",
      "\u001b[0;31mNameError\u001b[0m: name 'p' is not defined"
     ]
    },
    {
     "data": {
      "image/png": "[encoded data removed]",
      "text/plain": [
       "<matplotlib.figure.Figure at 0x112b2fba8>"
      ]
     },
     "metadata": {
      "needs_background": "light"
     },
     "output_type": "display_data"
    }
   ],
   "source": [
    "fig, axes = plt.subplots()\n",
    "plt.scatter(x,y)\n",
    "plt.plot(x,p(x),color='orange')\n",
    "#plt.plot(x,logistic(x,params[0],params[1],params[2],params[3],params[4]),color='orange')\n",
    "axes.legend(['fitted curve','Obersvations'])\n",
    "axes.set_xlabel('Days')\n",
    "axes.set_ylabel('Number of Infections in %')"
   ]
  },
  {
   "cell_type": "code",
   "execution_count": null,
   "metadata": {},
   "outputs": [],
   "source": []
  }
 ],
 "metadata": {
  "kernelspec": {
   "display_name": "Python 3",
   "language": "python",
   "name": "python3"
  },
  "language_info": {
   "codemirror_mode": {
    "name": "ipython",
    "version": 3
   },
   "file_extension": ".py",
   "mimetype": "text/x-python",
   "name": "python",
   "nbconvert_exporter": "python",
   "pygments_lexer": "ipython3",
   "version": "3.6.0"
  }
 },
 "nbformat": 4,
 "nbformat_minor": 2
}
